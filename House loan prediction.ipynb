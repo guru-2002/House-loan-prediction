{
  "nbformat": 4,
  "nbformat_minor": 0,
  "metadata": {
    "colab": {
      "name": "Untitled5.ipynb",
      "provenance": []
    },
    "kernelspec": {
      "name": "python3",
      "display_name": "Python 3"
    },
    "language_info": {
      "name": "python"
    }
  },
  "cells": [
    {
      "cell_type": "code",
      "execution_count": null,
      "metadata": {
        "id": "nErwS4pNcNsv"
      },
      "outputs": [],
      "source": [
        "import numpy as np # linear algebra\n",
        "import pandas as pd # data processing, CSV file I/O (e.g. pd.read_csv)\n",
        "\n",
        "# Input data files are available in the read-only \"../input/\" directory\n",
        "# For example, running this (by clicking run or pressing Shift+Enter) will list all files under the input directory\n",
        "\n",
        "import os\n",
        "for dirname, _, filenames in os.walk('/kaggle/input'):\n",
        "    for filename in filenames:\n",
        "        print(os.path.join(dirname, filename))\n",
        "\n",
        "# You can write up to 20GB to the current directory (/kaggle/working/) that gets preserved as output when you create a version using \"Save & Run All\" \n",
        "# You can also write temporary files to /kaggle/temp/, but they won't be saved outside of the current session\n",
        "/kaggle/input/house-loan-data-analysis/loan_data.csv"
      ]
    },
    {
      "cell_type": "code",
      "source": [
        "import sklearn\n",
        "import numpy as np\n",
        "import matplotlib.pyplot as plt\n",
        "import os\n",
        "import warnings\n",
        "import seaborn as sns\n",
        "from sklearn.preprocessing import OneHotEncoder \n",
        "from sklearn.datasets import make_blobs\n",
        "from sklearn.impute import SimpleImputer\n",
        "from sklearn.pipeline import Pipeline\n",
        "from sklearn.compose import ColumnTransformer\n",
        "from sklearn.preprocessing import StandardScaler\n",
        "from sklearn.svm import LinearSVC\n",
        "from sklearn.metrics import roc_auc_score\n",
        "from sklearn.linear_model import LogisticRegression\n",
        "from sklearn.metrics import roc_auc_score\n",
        "from sklearn.calibration import CalibratedClassifierCV\n",
        "from sklearn.metrics import confusion_matrix\n",
        "from sklearn.ensemble import RandomForestClassifier\n",
        "from sklearn.metrics import accuracy_score\n",
        "from sklearn.linear_model import SGDClassifier\n",
        "import plotly.offline as py\n",
        "import plotly.graph_objs as go\n",
        "from plotly.offline import init_notebook_mode, iplot\n",
        "from sklearn.model_selection import train_test_split\n",
        "init_notebook_mode(connected=True)\n",
        "import cufflinks as cf\n",
        "cf.go_offline()\n",
        "import pickle\n",
        "import gc\n",
        "import lightgbm as lgb\n",
        "warnings.filterwarnings('ignore')\n",
        "%matplotlib inline"
      ],
      "metadata": {
        "id": "nciVO3MRcO9u"
      },
      "execution_count": null,
      "outputs": []
    },
    {
      "cell_type": "code",
      "source": [
        "house_loan=pd.read_csv('../input/house-loan-data-analysis/loan_data.csv') \n",
        "house_loan.describe()"
      ],
      "metadata": {
        "id": "P4KXJH0ocPHB"
      },
      "execution_count": null,
      "outputs": []
    },
    {
      "cell_type": "code",
      "source": [
        "house_loan.columns"
      ],
      "metadata": {
        "id": "9R2z8DhicPJn"
      },
      "execution_count": null,
      "outputs": []
    },
    {
      "cell_type": "code",
      "source": [
        "house_loan.info()"
      ],
      "metadata": {
        "id": "e5QrpvrwcPMf"
      },
      "execution_count": null,
      "outputs": []
    },
    {
      "cell_type": "code",
      "source": [
        "house_loan.isnull().sum()"
      ],
      "metadata": {
        "id": "EJ-l8TYPcPPc"
      },
      "execution_count": null,
      "outputs": []
    },
    {
      "cell_type": "code",
      "source": [
        "house_loan.head()"
      ],
      "metadata": {
        "id": "q0hF0Ca7cPSX"
      },
      "execution_count": null,
      "outputs": []
    },
    {
      "cell_type": "code",
      "source": [
        "defaulters=(house_loan.TARGET==1).sum()\n",
        "payers=(house_loan.TARGET==0).sum()\n",
        "print((defaulters/payers)*100)"
      ],
      "metadata": {
        "id": "Mt6o0fAncPVL"
      },
      "execution_count": null,
      "outputs": []
    },
    {
      "cell_type": "code",
      "source": [
        "without_id=[column for column in house_loan.columns if column!='SK_ID_CURR'] \n",
        "\n",
        "#check for duplicate values\n",
        "na=house_loan[house_loan.duplicated(subset=without_id,keep=False)] \n",
        "print(\"Duplicates are: \",na.shape[0])"
      ],
      "metadata": {
        "id": "OJqdWVdMcPYi"
      },
      "execution_count": null,
      "outputs": []
    },
    {
      "cell_type": "code",
      "source": [
        "house_loan.TARGET.value_counts().plot(kind='pie',autopct='%1.1f%%')"
      ],
      "metadata": {
        "id": "Ulu-hKksdGFB"
      },
      "execution_count": null,
      "outputs": []
    },
    {
      "cell_type": "code",
      "source": [
        "import matplotlib as plt\n",
        "shuffled_data=house_loan.sample(frac=1,random_state=3)\n",
        "unpaid_home_loan=shuffled_data.loc[shuffled_data['TARGET']==1] \n",
        "paid_home_loan=shuffled_data.loc[shuffled_data['TARGET']==0].sample(n=24825,random_state=69)\n",
        "normalised_home_loan=pd.concat([unpaid_home_loan,paid_home_loan])\n",
        "normalised_home_loan.TARGET.value_counts().plot(kind='pie',autopct=\"%1.1f%%\")"
      ],
      "metadata": {
        "id": "5CWON3P-dGOo"
      },
      "execution_count": null,
      "outputs": []
    },
    {
      "cell_type": "code",
      "source": [
        "import tensorflow as tf\n",
        "normalised_home_loan.info()"
      ],
      "metadata": {
        "id": "QFaqD8mcdN1X"
      },
      "execution_count": null,
      "outputs": []
    },
    {
      "cell_type": "code",
      "source": [
        "normalised_home_loan.head"
      ],
      "metadata": {
        "id": "QHEFVc94dN3a"
      },
      "execution_count": null,
      "outputs": []
    },
    {
      "cell_type": "code",
      "source": [
        "normalised_home_loan.dropna(axis=0)\n",
        "normalised_home_loan.info()"
      ],
      "metadata": {
        "id": "pek80fWKdTlR"
      },
      "execution_count": null,
      "outputs": []
    },
    {
      "cell_type": "code",
      "source": [
        "normalised_home_loan.isnull().sum()"
      ],
      "metadata": {
        "id": "hZvXyVlOdZJZ"
      },
      "execution_count": null,
      "outputs": []
    },
    {
      "cell_type": "code",
      "source": [
        "#print(normalised_home_loan.apply())\n",
        "print(pd.unique(normalised_home_loan.AMT_REQ_CREDIT_BUREAU_DAY)) \n",
        "print(pd.unique(normalised_home_loan.AMT_REQ_CREDIT_BUREAU_WEEK))\n",
        "print(pd.unique(normalised_home_loan.AMT_REQ_CREDIT_BUREAU_MON))\n",
        "print(pd.unique(normalised_home_loan.AMT_REQ_CREDIT_BUREAU_QRT))\n",
        "print(pd.unique(normalised_home_loan.AMT_REQ_CREDIT_BUREAU_YEAR))"
      ],
      "metadata": {
        "id": "9iL7ephDdZ2v"
      },
      "execution_count": null,
      "outputs": []
    },
    {
      "cell_type": "code",
      "source": [
        "normalised_home_loan.dropna(axis=0)"
      ],
      "metadata": {
        "id": "uH3Qb-y4dZ43"
      },
      "execution_count": null,
      "outputs": []
    },
    {
      "cell_type": "code",
      "source": [
        "print(normalised_home_loan.info())\n",
        "print(normalised_home_loan.isnull().sum())"
      ],
      "metadata": {
        "id": "AqdNLEbedgbd"
      },
      "execution_count": null,
      "outputs": []
    },
    {
      "cell_type": "code",
      "source": [
        "normalised_home_loan.TARGET.value_counts().plot(kind='pie',autopct=\"%1.1f%%\")"
      ],
      "metadata": {
        "id": "t8rS6y5odgl7"
      },
      "execution_count": null,
      "outputs": []
    },
    {
      "cell_type": "code",
      "source": [
        "normalised_home_loan.NAME_CONTRACT_TYPE.value_counts().plot(kind='pie',autopct=\"%1.1f%%\") \n",
        "#high amount of cash loans"
      ],
      "metadata": {
        "id": "n6SyJYtodgoH"
      },
      "execution_count": null,
      "outputs": []
    },
    {
      "cell_type": "code",
      "source": [
        "normalised_home_loan.CODE_GENDER.value_counts().plot(kind='pie',autopct=\"%1.1f%%\") \n",
        "#roughly equal amount"
      ],
      "metadata": {
        "id": "6XWUA9nAdgqs"
      },
      "execution_count": null,
      "outputs": []
    },
    {
      "cell_type": "code",
      "source": [
        "normalised_home_loan.FLAG_OWN_CAR.value_counts().plot(kind='pie',autopct=\"%1.1f%%\")"
      ],
      "metadata": {
        "id": "xTb3oC-FdgtA"
      },
      "execution_count": null,
      "outputs": []
    },
    {
      "cell_type": "code",
      "source": [
        "normalised_home_loan.CNT_CHILDREN.value_counts().plot(kind='pie',autopct=\"%1.1f%%\")"
      ],
      "metadata": {
        "id": "iudFuHS-dwN-"
      },
      "execution_count": null,
      "outputs": []
    },
    {
      "cell_type": "code",
      "source": [
        "#!pip install chart_studio\n",
        "\n",
        "\n",
        "cf.set_config_file(theme='polar')\n",
        "\n",
        "normalised_home_loan[normalised_home_loan['AMT_INCOME_TOTAL'] < 2000000]['AMT_INCOME_TOTAL'].iplot(kind='histogram', bins=100,\n",
        "   xTitle = 'Total Income', yTitle ='Count of applicants',\n",
        "             title='Distribution of AMT_INCOME_TOTAL')"
      ],
      "metadata": {
        "id": "GbKz8h4BdwTZ"
      },
      "execution_count": null,
      "outputs": []
    },
    {
      "cell_type": "code",
      "source": [
        "(normalised_home_loan[normalised_home_loan['AMT_INCOME_TOTAL']>1000000]['TARGET'].value_counts())/len(normalised_home_loan[normalised_home_loan['AMT_INCOME_TOTAL'] > 1000000])*100\n",
        "\n",
        "#print((normalised_home_loan[normalised_home_loan['CNT_CHILDREN']>1]['TARGET'].value_counts())/len(normalised_home_loan[normalised_home_loan['CNT_CHILDREN'] > 2])*100)\n",
        "print((normalised_home_loan[normalised_home_loan['CNT_CHILDREN']>2]['TARGET'].value_counts())/len(normalised_home_loan[normalised_home_loan['CNT_CHILDREN'] > 2])*100)\n",
        "print((normalised_home_loan[normalised_home_loan['CNT_CHILDREN']>5]['TARGET'].value_counts())/len(normalised_home_loan[normalised_home_loan['CNT_CHILDREN'] > 5])*100) \n",
        "#as number of children is increasing lone defaulters are increasing"
      ],
      "metadata": {
        "id": "1qn_UpCFdwVn"
      },
      "execution_count": null,
      "outputs": []
    },
    {
      "cell_type": "code",
      "source": [
        "print((normalised_home_loan[normalised_home_loan['FLAG_OWN_CAR']=='N']['TARGET'].value_counts())/len(normalised_home_loan[normalised_home_loan['FLAG_OWN_CAR'] =='N'])*100)\n",
        "print((normalised_home_loan[normalised_home_loan['FLAG_OWN_CAR']=='Y']['TARGET'].value_counts())/len(normalised_home_loan[normalised_home_loan['FLAG_OWN_CAR'] =='Y'])*100) \n",
        "\n",
        "#people with own cars are slighlty more likely to repay back the loan "
      ],
      "metadata": {
        "id": "QwTjK4FsdwZL"
      },
      "execution_count": null,
      "outputs": []
    },
    {
      "cell_type": "code",
      "source": [
        "print((normalised_home_loan[normalised_home_loan['CODE_GENDER']=='M']['TARGET'].value_counts())/len(normalised_home_loan[normalised_home_loan['CODE_GENDER'] =='M'])*100) \n",
        "print((normalised_home_loan[normalised_home_loan['CODE_GENDER']=='F']['TARGET'].value_counts())/len(normalised_home_loan[normalised_home_loan['CODE_GENDER'] =='F'])*100) \n",
        "\n",
        "#men more likely to default in payment of loans"
      ],
      "metadata": {
        "id": "RXWZWy02dgwq"
      },
      "execution_count": null,
      "outputs": []
    },
    {
      "cell_type": "code",
      "source": [
        "print((normalised_home_loan[normalised_home_loan['NAME_CONTRACT_TYPE']=='Cash loans']['TARGET'].value_counts())/len(normalised_home_loan[normalised_home_loan['NAME_CONTRACT_TYPE']=='Cash loans'])*100) \n",
        "print((normalised_home_loan[normalised_home_loan['NAME_CONTRACT_TYPE']=='Revolving loans']['TARGET'].value_counts())/len(normalised_home_loan[normalised_home_loan['NAME_CONTRACT_TYPE']=='Revolving loans'])*100) \n",
        "\n",
        "#cash loans have a higher percent of defaulters"
      ],
      "metadata": {
        "id": "b6v0IyxXdZ8b"
      },
      "execution_count": null,
      "outputs": []
    },
    {
      "cell_type": "code",
      "source": [
        "normalised_home_loan=normalised_home_loan.sample(frac=1,random_state=5)\n",
        "from sklearn.preprocessing import OrdinalEncoder\n",
        "\n",
        "ordenc=OrdinalEncoder()\n",
        "normalised_home_loan['NAME_CONTRACT_TYPE_CODE']=ordenc.fit_transform(normalised_home_loan[['NAME_CONTRACT_TYPE']]) \n",
        "print(normalised_home_loan[['NAME_CONTRACT_TYPE','NAME_CONTRACT_TYPE_CODE']].head(20))\n",
        "print(normalised_home_loan['NAME_CONTRACT_TYPE_CODE'].value_counts())"
      ],
      "metadata": {
        "id": "rP6Qo7gKeKtK"
      },
      "execution_count": null,
      "outputs": []
    },
    {
      "cell_type": "code",
      "source": [
        "normalised_home_loan['CODE_GENDER_CODE']=ordenc.fit_transform(normalised_home_loan[['CODE_GENDER']]) \n",
        "print(normalised_home_loan[['CODE_GENDER','CODE_GENDER_CODE']].head(20))\n",
        "print(normalised_home_loan['CODE_GENDER_CODE'].value_counts())"
      ],
      "metadata": {
        "id": "KpyZmFPre7K7"
      },
      "execution_count": null,
      "outputs": []
    },
    {
      "cell_type": "code",
      "source": [
        "#2 other values in code_gender\n",
        "normalised_home_loan.loc[normalised_home_loan['CODE_GENDER_CODE']==2]"
      ],
      "metadata": {
        "id": "OBCpzF7ke7OT"
      },
      "execution_count": null,
      "outputs": []
    },
    {
      "cell_type": "code",
      "source": [
        "normalised_home_loan['FLAG_OWN_CAR_CODE']=ordenc.fit_transform(normalised_home_loan[['FLAG_OWN_CAR']]) \n",
        "print(normalised_home_loan[['FLAG_OWN_CAR','FLAG_OWN_CAR_CODE']].head(20))\n",
        "print(normalised_home_loan['FLAG_OWN_CAR_CODE'].value_counts())"
      ],
      "metadata": {
        "id": "-JBokFkVe7Uf"
      },
      "execution_count": null,
      "outputs": []
    },
    {
      "cell_type": "code",
      "source": [
        "normalised_home_loan['CNT_CHILDREN_CODE']=ordenc.fit_transform(normalised_home_loan[['CNT_CHILDREN']]) \n",
        "print(normalised_home_loan[['CNT_CHILDREN_CODE','CNT_CHILDREN']].head(20))\n",
        "print(normalised_home_loan['CNT_CHILDREN_CODE'].value_counts())"
      ],
      "metadata": {
        "id": "KO8X2iKLe7W6"
      },
      "execution_count": null,
      "outputs": []
    },
    {
      "cell_type": "code",
      "source": [
        "normalised_home_loan=normalised_home_loan.sample(frac=1,random_state=45)"
      ],
      "metadata": {
        "id": "KC4B4vO4e7Y2"
      },
      "execution_count": null,
      "outputs": []
    },
    {
      "cell_type": "code",
      "source": [
        "normalised_home_loan['TARGET'].value_counts()"
      ],
      "metadata": {
        "id": "uXxr7Wfye7bJ"
      },
      "execution_count": null,
      "outputs": []
    },
    {
      "cell_type": "code",
      "source": [
        "y=normalised_home_loan.TARGET "
      ],
      "metadata": {
        "id": "ohTkgltbe7c8"
      },
      "execution_count": null,
      "outputs": []
    },
    {
      "cell_type": "code",
      "source": [
        "#y=y.sample(frac=1,random_state=45)"
      ],
      "metadata": {
        "id": "wikNMox8e7fV"
      },
      "execution_count": null,
      "outputs": []
    },
    {
      "cell_type": "code",
      "source": [
        "normalised_home_loan_features=['SK_ID_CURR','NAME_CONTRACT_TYPE_CODE','CNT_CHILDREN_CODE','FLAG_OWN_CAR_CODE','CODE_GENDER_CODE']"
      ],
      "metadata": {
        "id": "Mx-C27iNe7i9"
      },
      "execution_count": null,
      "outputs": []
    },
    {
      "cell_type": "code",
      "source": [
        "from sklearn.model_selection import train_test_split"
      ],
      "metadata": {
        "id": "IzH-HgipfTXA"
      },
      "execution_count": null,
      "outputs": []
    },
    {
      "cell_type": "code",
      "source": [
        "X=normalised_home_loan[normalised_home_loan_features]"
      ],
      "metadata": {
        "id": "KOGiArrHfTZU"
      },
      "execution_count": null,
      "outputs": []
    },
    {
      "cell_type": "code",
      "source": [
        "#X=X.sample(frac=1,random_state=45)"
      ],
      "metadata": {
        "id": "ntc_4a-xfTbk"
      },
      "execution_count": null,
      "outputs": []
    },
    {
      "cell_type": "code",
      "source": [
        "blobs_random_seed = 42\n",
        "centers = [(0,0), (5,5)]\n",
        "cluster_std = 1\n",
        "frac_test_split = 0.33\n",
        "num_features_for_samples = 2\n",
        "num_samples_total = 49650\n",
        "\n",
        "# Generate data\n",
        "inputs, targets = make_blobs(n_samples = num_samples_total, centers = centers, n_features = num_features_for_samples, cluster_std = cluster_std)\n",
        "\n",
        "X_train,X_test,y_train,y_test=train_test_split(inputs,targets,test_size=0.33,random_state=45)"
      ],
      "metadata": {
        "id": "3wY4Zll-fTe_"
      },
      "execution_count": null,
      "outputs": []
    },
    {
      "cell_type": "code",
      "source": [
        "print(X_train.shape, X_test.shape, y_train.shape, y_test.shape)"
      ],
      "metadata": {
        "id": "jg-KZg61fhuW"
      },
      "execution_count": null,
      "outputs": []
    },
    {
      "cell_type": "code",
      "source": [
        "plt.pyplot.scatter(X_train[:,0], X_train[:,1])\n",
        "plt.pyplot.title('Linearly separable data')\n",
        "plt.pyplot.xlabel('X1')\n",
        "plt.pyplot.ylabel('X2')\n",
        "plt.pyplot.show()"
      ],
      "metadata": {
        "id": "stt4c6wSfhwj"
      },
      "execution_count": null,
      "outputs": []
    },
    {
      "cell_type": "code",
      "source": [
        "from sklearn import svm \n",
        "from sklearn.metrics import plot_confusion_matrix"
      ],
      "metadata": {
        "id": "Lqb-Git0fhy-"
      },
      "execution_count": null,
      "outputs": []
    },
    {
      "cell_type": "code",
      "source": [
        "clf=svm.SVC(kernel='linear')"
      ],
      "metadata": {
        "id": "xElkc6NKfh2U"
      },
      "execution_count": null,
      "outputs": []
    },
    {
      "cell_type": "code",
      "source": [
        "clf=clf.fit(X_train,y_train)"
      ],
      "metadata": {
        "id": "HSPKt-msfqyj"
      },
      "execution_count": null,
      "outputs": []
    },
    {
      "cell_type": "code",
      "source": [
        "predictions = clf.predict(X_test)\n",
        "\n",
        "# Generate confusion matrix\n",
        "matrix = plot_confusion_matrix(clf, X_test, y_test,\n",
        "                                 cmap=plt.cm.Blues,\n",
        "                                 normalize='true')\n",
        "plt.pyplot.title('Confusion matrix for our classifier')\n",
        "plt.pyplot.show(matrix)\n",
        "plt.pyplot.show()"
      ],
      "metadata": {
        "id": "wY618vi9fq7j"
      },
      "execution_count": null,
      "outputs": []
    },
    {
      "cell_type": "code",
      "source": [
        "from sklearn.metrics import precision_score, recall_score,f1_score"
      ],
      "metadata": {
        "id": "PpRoOJiVfq-E"
      },
      "execution_count": null,
      "outputs": []
    },
    {
      "cell_type": "code",
      "source": [
        "print(precision_score(y_test, predictions))\n",
        "print(recall_score(y_test, predictions)) \n",
        "print(f1_score(y_test,predictions,average=None))"
      ],
      "metadata": {
        "id": "kC3_Qlc7frAm"
      },
      "execution_count": null,
      "outputs": []
    },
    {
      "cell_type": "code",
      "source": [
        "support_vectors = clf.support_vectors_\n",
        "\n",
        "# Visualize support vectors\n",
        "plt.pyplot.scatter(X_train[:,0], X_train[:,1])\n",
        "plt.pyplot.scatter(support_vectors[:,0], support_vectors[:,1], color='red')\n",
        "plt.pyplot.title('Linearly separable data with support vectors')\n",
        "plt.pyplot.xlabel('X1')\n",
        "plt.pyplot.ylabel('X2')\n",
        "plt.pyplot.show()"
      ],
      "metadata": {
        "id": "vQQ19KE2frED"
      },
      "execution_count": null,
      "outputs": []
    },
    {
      "cell_type": "code",
      "source": [
        "from mlxtend.plotting import plot_decision_regions"
      ],
      "metadata": {
        "id": "tbxCNM5ff7MY"
      },
      "execution_count": null,
      "outputs": []
    },
    {
      "cell_type": "code",
      "source": [
        "plot_decision_regions(X_test, y_test, clf=clf, legend=2)\n",
        "plt.pyplot.show()"
      ],
      "metadata": {
        "id": "g45XejESf8JZ"
      },
      "execution_count": null,
      "outputs": []
    }
  ]
}